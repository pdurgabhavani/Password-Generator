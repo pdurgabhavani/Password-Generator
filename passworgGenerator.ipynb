{
  "nbformat": 4,
  "nbformat_minor": 0,
  "metadata": {
    "colab": {
      "provenance": []
    },
    "kernelspec": {
      "name": "python3",
      "display_name": "Python 3"
    },
    "language_info": {
      "name": "python"
    }
  },
  "cells": [
    {
      "cell_type": "code",
      "execution_count": 1,
      "metadata": {
        "colab": {
          "base_uri": "https://localhost:8080/"
        },
        "id": "uoT29Ivw02lq",
        "outputId": "e6db07fb-dcb1-4396-819d-5b75e012db0a"
      },
      "outputs": [
        {
          "output_type": "stream",
          "name": "stdout",
          "text": [
            "Enter the desired password length (e.g., 16): 14\n",
            "Generated password: e`C1jF)8o?/?+g\n",
            "Password entropy: 91.76 bits\n"
          ]
        }
      ],
      "source": [
        "import random\n",
        "import string\n",
        "import math\n",
        "\n",
        "\n",
        "def generate_password(length=16):\n",
        "    lower = string.ascii_lowercase\n",
        "    upper = string.ascii_uppercase\n",
        "    digits = string.digits\n",
        "    punctuation = string.punctuation\n",
        "\n",
        "    all_characters = lower + upper + digits + punctuation\n",
        "\n",
        "    password = [\n",
        "        random.choice(lower),\n",
        "        random.choice(upper),\n",
        "        random.choice(digits),\n",
        "        random.choice(punctuation)\n",
        "    ]\n",
        "\n",
        "    password += random.choices(all_characters, k=length-4)\n",
        "\n",
        "    random.shuffle(password)\n",
        "\n",
        "    return ''.join(password)\n",
        "\n",
        "def calculate_entropy(password):\n",
        "    char_set_size = len(string.ascii_lowercase + string.ascii_uppercase + string.digits + string.punctuation)\n",
        "    entropy = len(password) * math.log2(char_set_size)\n",
        "    return entropy\n",
        "\n",
        "def main():\n",
        "    length = int(input(\"Enter the desired password length (e.g., 16): \"))\n",
        "\n",
        "    password = generate_password(length)\n",
        "\n",
        "    entropy = calculate_entropy(password)\n",
        "\n",
        "    print(f\"Generated password: {password}\")\n",
        "    print(f\"Password entropy: {entropy:.2f} bits\")\n",
        "\n",
        "if __name__ == \"__main__\":\n",
        "    main()\n"
      ]
    }
  ]
}